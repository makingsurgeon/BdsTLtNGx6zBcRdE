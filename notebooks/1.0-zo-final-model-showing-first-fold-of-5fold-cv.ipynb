{
 "cells": [
  {
   "cell_type": "code",
   "execution_count": 1,
   "id": "354524cf",
   "metadata": {},
   "outputs": [],
   "source": [
    "import pandas as pd"
   ]
  },
  {
   "cell_type": "code",
   "execution_count": 2,
   "id": "c1d62368",
   "metadata": {},
   "outputs": [],
   "source": [
    "a = pd.read_csv(\"term-deposit-marketing-2020.csv\")"
   ]
  },
  {
   "cell_type": "code",
   "execution_count": 3,
   "id": "8d247d4c",
   "metadata": {},
   "outputs": [],
   "source": [
    "a['job'].replace(['management', 'technician', 'entrepreneur', 'blue-collar',\n",
    "       'unknown', 'retired', 'admin', 'services', 'self-employed',\n",
    "       'unemployed', 'housemaid', 'student'],\n",
    "                        [0, 1, 2, 3, 4, 5, 6, 7, 8, 9, 10, 11], inplace=True)"
   ]
  },
  {
   "cell_type": "code",
   "execution_count": 4,
   "id": "91599784",
   "metadata": {},
   "outputs": [],
   "source": [
    "a['marital'].replace(['married', 'single', 'divorced'],\n",
    "                        [0, 1, 2], inplace=True)"
   ]
  },
  {
   "cell_type": "code",
   "execution_count": 5,
   "id": "8da97c5b",
   "metadata": {},
   "outputs": [],
   "source": [
    "a['education'].replace(['tertiary', 'secondary', 'unknown', 'primary'],\n",
    "                        [0, 1, 2, 3], inplace=True)"
   ]
  },
  {
   "cell_type": "code",
   "execution_count": 6,
   "id": "5e7c25bc",
   "metadata": {},
   "outputs": [],
   "source": [
    "a['default'].replace(['no', 'yes'],\n",
    "                        [0, 1], inplace=True)"
   ]
  },
  {
   "cell_type": "code",
   "execution_count": 7,
   "id": "25ed81c4",
   "metadata": {},
   "outputs": [],
   "source": [
    "a['housing'].replace(['no', 'yes'],\n",
    "                        [0, 1], inplace=True)"
   ]
  },
  {
   "cell_type": "code",
   "execution_count": 8,
   "id": "4dba9468",
   "metadata": {},
   "outputs": [],
   "source": [
    "a['loan'].replace(['no', 'yes'],\n",
    "                        [0, 1], inplace=True)"
   ]
  },
  {
   "cell_type": "code",
   "execution_count": 9,
   "id": "c6acbbd7",
   "metadata": {},
   "outputs": [],
   "source": [
    "a['contact'].replace(['unknown', 'cellular', 'telephone'],\n",
    "                        [0, 1, 2], inplace=True)"
   ]
  },
  {
   "cell_type": "code",
   "execution_count": 10,
   "id": "299a5e0c",
   "metadata": {},
   "outputs": [],
   "source": [
    "a['month'].replace(['may', 'jun', 'jul', 'aug', 'oct', 'nov', 'dec', 'jan', 'feb',\n",
    "       'mar', 'apr'],\n",
    "                        [5, 6, 7, 8, 10, 11, 12, 1, 2, 3, 4], inplace=True)"
   ]
  },
  {
   "cell_type": "code",
   "execution_count": 11,
   "id": "4990b323",
   "metadata": {},
   "outputs": [],
   "source": [
    "a['y'].replace([\"no\", \"yes\"],\n",
    "                        [0,1], inplace=True)"
   ]
  },
  {
   "cell_type": "code",
   "execution_count": 12,
   "id": "71bee84b",
   "metadata": {},
   "outputs": [],
   "source": [
    "X = a.drop([\"y\"], axis=1)"
   ]
  },
  {
   "cell_type": "code",
   "execution_count": 13,
   "id": "ef749355",
   "metadata": {},
   "outputs": [],
   "source": [
    "y = a[\"y\"]"
   ]
  },
  {
   "cell_type": "code",
   "execution_count": 14,
   "id": "385a3f63",
   "metadata": {},
   "outputs": [],
   "source": [
    "from sklearn.model_selection import KFold"
   ]
  },
  {
   "cell_type": "code",
   "execution_count": 15,
   "id": "8d6d1d36",
   "metadata": {},
   "outputs": [],
   "source": [
    "kf = KFold(n_splits=5)"
   ]
  },
  {
   "cell_type": "code",
   "execution_count": 17,
   "id": "1a3bf0ea",
   "metadata": {},
   "outputs": [],
   "source": [
    "d = {}\n",
    "for i, (train_index, test_index) in enumerate(kf.split(X)):\n",
    "    d[\"train{0}\".format(i)] = train_index\n",
    "    d[\"test{0}\".format(i)] = test_index"
   ]
  },
  {
   "cell_type": "code",
   "execution_count": 26,
   "id": "765b9c2b",
   "metadata": {},
   "outputs": [],
   "source": [
    "train0 = X.loc[d[\"train0\"]]"
   ]
  },
  {
   "cell_type": "code",
   "execution_count": 27,
   "id": "91c95cd7",
   "metadata": {},
   "outputs": [],
   "source": [
    "test0 = X.loc[d[\"test0\"]]"
   ]
  },
  {
   "cell_type": "code",
   "execution_count": 21,
   "id": "97ddf81e",
   "metadata": {},
   "outputs": [],
   "source": [
    "y_train0 = y[d[\"train0\"]]"
   ]
  },
  {
   "cell_type": "code",
   "execution_count": 22,
   "id": "a5249670",
   "metadata": {},
   "outputs": [],
   "source": [
    "y_test0 = y[d[\"test0\"]]"
   ]
  },
  {
   "cell_type": "code",
   "execution_count": 29,
   "id": "8fa9707b",
   "metadata": {},
   "outputs": [],
   "source": [
    "ind = []\n",
    "for i in range(8000,40000):\n",
    "    if y[i] == 1:\n",
    "        ind.append(i)"
   ]
  },
  {
   "cell_type": "code",
   "execution_count": 32,
   "id": "ca7f8ee1",
   "metadata": {},
   "outputs": [],
   "source": [
    "new_X = train0.loc[ind]"
   ]
  },
  {
   "cell_type": "code",
   "execution_count": 37,
   "id": "8e452400",
   "metadata": {},
   "outputs": [],
   "source": [
    "ind1 = []\n",
    "for i in range(8000,40000):\n",
    "    if y[i] == 0:\n",
    "        ind1.append(i)"
   ]
  },
  {
   "cell_type": "code",
   "execution_count": 38,
   "id": "68795fdf",
   "metadata": {},
   "outputs": [],
   "source": [
    "new_X1 = train0.loc[ind1]"
   ]
  },
  {
   "cell_type": "code",
   "execution_count": 41,
   "id": "2eea7a85",
   "metadata": {},
   "outputs": [],
   "source": [
    "new_X2 = new_X1.sample(n=5362, replace=False, random_state=0)"
   ]
  },
  {
   "cell_type": "code",
   "execution_count": 42,
   "id": "c38cd343",
   "metadata": {},
   "outputs": [],
   "source": [
    "new_X3 = pd.concat([new_X,new_X2])"
   ]
  },
  {
   "cell_type": "code",
   "execution_count": 44,
   "id": "e0507739",
   "metadata": {},
   "outputs": [],
   "source": [
    "y_train = []\n",
    "for i in range(2638):\n",
    "    y_train.append(1)\n",
    "for i in range(5362):\n",
    "    y_train.append(0)"
   ]
  },
  {
   "cell_type": "code",
   "execution_count": 45,
   "id": "89d7b7e4",
   "metadata": {},
   "outputs": [],
   "source": [
    "from sklearn.ensemble import RandomForestClassifier"
   ]
  },
  {
   "cell_type": "code",
   "execution_count": 46,
   "id": "5aa67064",
   "metadata": {},
   "outputs": [
    {
     "data": {
      "text/plain": [
       "RandomForestClassifier(random_state=0)"
      ]
     },
     "execution_count": 46,
     "metadata": {},
     "output_type": "execute_result"
    }
   ],
   "source": [
    "clf = RandomForestClassifier(random_state = 0)\n",
    "clf.fit(new_X3, y_train)"
   ]
  },
  {
   "cell_type": "code",
   "execution_count": 47,
   "id": "93ca245c",
   "metadata": {},
   "outputs": [],
   "source": [
    "y_pred = clf.predict(test0)"
   ]
  },
  {
   "cell_type": "code",
   "execution_count": 48,
   "id": "1888c7a5",
   "metadata": {},
   "outputs": [
    {
     "data": {
      "text/plain": [
       "0.34764250527797325"
      ]
     },
     "execution_count": 48,
     "metadata": {},
     "output_type": "execute_result"
    }
   ],
   "source": [
    "from sklearn.metrics import f1_score\n",
    "f1_score(y_test0, y_pred)"
   ]
  },
  {
   "cell_type": "code",
   "execution_count": 50,
   "id": "2442ed84",
   "metadata": {},
   "outputs": [
    {
     "data": {
      "text/plain": [
       "0.884125"
      ]
     },
     "execution_count": 50,
     "metadata": {},
     "output_type": "execute_result"
    }
   ],
   "source": [
    "clf.score(test0, y_test0)"
   ]
  },
  {
   "cell_type": "code",
   "execution_count": 51,
   "id": "14e61205",
   "metadata": {},
   "outputs": [],
   "source": [
    "from sklearn.metrics import confusion_matrix"
   ]
  },
  {
   "cell_type": "code",
   "execution_count": 52,
   "id": "2dbec3c1",
   "metadata": {},
   "outputs": [
    {
     "data": {
      "text/plain": [
       "array([[6826,  916],\n",
       "       [  11,  247]])"
      ]
     },
     "execution_count": 52,
     "metadata": {},
     "output_type": "execute_result"
    }
   ],
   "source": [
    "confusion_matrix(y_test0, y_pred)"
   ]
  },
  {
   "cell_type": "code",
   "execution_count": null,
   "id": "43f6d531",
   "metadata": {},
   "outputs": [],
   "source": []
  }
 ],
 "metadata": {
  "kernelspec": {
   "display_name": "Python 3 (ipykernel)",
   "language": "python",
   "name": "python3"
  },
  "language_info": {
   "codemirror_mode": {
    "name": "ipython",
    "version": 3
   },
   "file_extension": ".py",
   "mimetype": "text/x-python",
   "name": "python",
   "nbconvert_exporter": "python",
   "pygments_lexer": "ipython3",
   "version": "3.9.12"
  }
 },
 "nbformat": 4,
 "nbformat_minor": 5
}
