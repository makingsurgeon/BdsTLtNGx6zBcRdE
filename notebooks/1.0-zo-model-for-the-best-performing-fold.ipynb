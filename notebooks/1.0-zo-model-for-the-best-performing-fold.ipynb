{
 "cells": [
  {
   "cell_type": "code",
   "execution_count": 1,
   "id": "bfb08d4b",
   "metadata": {},
   "outputs": [],
   "source": [
    "import pandas as pd"
   ]
  },
  {
   "cell_type": "markdown",
   "id": "63566d0a",
   "metadata": {},
   "source": [
    "## Preprocess data"
   ]
  },
  {
   "cell_type": "code",
   "execution_count": 2,
   "id": "7a756b84",
   "metadata": {},
   "outputs": [],
   "source": [
    "a = pd.read_csv(\"term-deposit-marketing-2020.csv\")\n",
    "a['job'].replace(['management', 'technician', 'entrepreneur', 'blue-collar',\n",
    "       'unknown', 'retired', 'admin', 'services', 'self-employed',\n",
    "       'unemployed', 'housemaid', 'student'],\n",
    "                        [0, 1, 2, 3, 4, 5, 6, 7, 8, 9, 10, 11], inplace=True)\n",
    "a['marital'].replace(['married', 'single', 'divorced'],\n",
    "                        [0, 1, 2], inplace=True)\n",
    "a['education'].replace(['tertiary', 'secondary', 'unknown', 'primary'],\n",
    "                        [0, 1, 2, 3], inplace=True)\n",
    "a['default'].replace(['no', 'yes'],\n",
    "                        [0, 1], inplace=True)\n",
    "a['housing'].replace(['no', 'yes'],\n",
    "                        [0, 1], inplace=True)\n",
    "a['loan'].replace(['no', 'yes'],\n",
    "                        [0, 1], inplace=True)\n",
    "a['contact'].replace(['unknown', 'cellular', 'telephone'],\n",
    "                        [0, 1, 2], inplace=True)\n",
    "a['month'].replace(['may', 'jun', 'jul', 'aug', 'oct', 'nov', 'dec', 'jan', 'feb',\n",
    "       'mar', 'apr'],\n",
    "                        [5, 6, 7, 8, 10, 11, 12, 1, 2, 3, 4], inplace=True)\n",
    "a['y'].replace([\"no\", \"yes\"],\n",
    "                        [0,1], inplace=True)\n",
    "X = a.drop([\"y\"], axis=1)\n",
    "y = a[\"y\"]"
   ]
  },
  {
   "cell_type": "code",
   "execution_count": 3,
   "id": "ca4b437f",
   "metadata": {},
   "outputs": [],
   "source": [
    "from sklearn.model_selection import KFold\n",
    "kf = KFold(n_splits=5)\n",
    "d = {}\n",
    "for i, (train_index, test_index) in enumerate(kf.split(X)):\n",
    "    d[\"train{0}\".format(i)] = train_index\n",
    "    d[\"test{0}\".format(i)] = test_index\n",
    "train2 = X.loc[d[\"train2\"]]\n",
    "test2 = X.loc[d[\"test2\"]]\n",
    "y_train2 = y[d[\"train2\"]]\n",
    "y_test2 = y[d[\"test2\"]]"
   ]
  },
  {
   "cell_type": "code",
   "execution_count": 4,
   "id": "a4236c11",
   "metadata": {},
   "outputs": [],
   "source": [
    "y_train2 = y_train2.reset_index(drop=True)"
   ]
  },
  {
   "cell_type": "code",
   "execution_count": 6,
   "id": "953d67e5",
   "metadata": {},
   "outputs": [],
   "source": [
    "ind = []\n",
    "for i in range(32000):\n",
    "    if y_train2[i] == 1:\n",
    "        ind.append(i)"
   ]
  },
  {
   "cell_type": "code",
   "execution_count": 7,
   "id": "f8dbd5cb",
   "metadata": {},
   "outputs": [],
   "source": [
    "new_X = train2.iloc[ind]"
   ]
  },
  {
   "cell_type": "code",
   "execution_count": 8,
   "id": "a555919f",
   "metadata": {},
   "outputs": [],
   "source": [
    "ind1 = []\n",
    "for i in range(32000):\n",
    "    if y_train2[i] == 0:\n",
    "        ind1.append(i)"
   ]
  },
  {
   "cell_type": "code",
   "execution_count": 9,
   "id": "af9e8148",
   "metadata": {},
   "outputs": [],
   "source": [
    "new_X1 = train2.iloc[ind1]"
   ]
  },
  {
   "cell_type": "code",
   "execution_count": 10,
   "id": "0d91f282",
   "metadata": {},
   "outputs": [
    {
     "data": {
      "text/plain": [
       "2457"
      ]
     },
     "execution_count": 10,
     "metadata": {},
     "output_type": "execute_result"
    }
   ],
   "source": [
    "len(ind)"
   ]
  },
  {
   "cell_type": "code",
   "execution_count": 11,
   "id": "5206eb2f",
   "metadata": {},
   "outputs": [],
   "source": [
    "new_X2 = new_X1.sample(n=7543, replace=False, random_state=0)"
   ]
  },
  {
   "cell_type": "code",
   "execution_count": 12,
   "id": "d0233c0e",
   "metadata": {},
   "outputs": [],
   "source": [
    "new_X3 = pd.concat([new_X,new_X2])\n",
    "y_train = []\n",
    "for i in range(2457):\n",
    "    y_train.append(1)\n",
    "for i in range(7543):\n",
    "    y_train.append(0)"
   ]
  },
  {
   "cell_type": "markdown",
   "id": "d3ea2fee",
   "metadata": {},
   "source": [
    "## Dropped day and month"
   ]
  },
  {
   "cell_type": "code",
   "execution_count": 13,
   "id": "631a6b1c",
   "metadata": {},
   "outputs": [],
   "source": [
    "new_X3 = new_X3.drop(columns = [\"day\", \"month\"])"
   ]
  },
  {
   "cell_type": "code",
   "execution_count": 15,
   "id": "3998083d",
   "metadata": {},
   "outputs": [],
   "source": [
    "test2 = test2.drop(columns = [\"day\", \"month\"])"
   ]
  },
  {
   "cell_type": "code",
   "execution_count": 16,
   "id": "2e5862a7",
   "metadata": {},
   "outputs": [],
   "source": [
    "from catboost import CatBoostClassifier, metrics"
   ]
  },
  {
   "cell_type": "code",
   "execution_count": 17,
   "id": "274f3e64",
   "metadata": {},
   "outputs": [
    {
     "data": {
      "text/plain": [
       "<catboost.core.CatBoostClassifier at 0x7f7831cfe0d0>"
      ]
     },
     "execution_count": 17,
     "metadata": {},
     "output_type": "execute_result"
    }
   ],
   "source": [
    "model = CatBoostClassifier(\n",
    "    class_weights = [3, 1],\n",
    "    custom_loss=[metrics.CrossEntropy()],\n",
    "    random_seed=42,\n",
    "    logging_level='Silent'\n",
    ")\n",
    "model.fit(new_X3, y_train)"
   ]
  },
  {
   "cell_type": "code",
   "execution_count": 19,
   "id": "6deb1fcc",
   "metadata": {},
   "outputs": [],
   "source": [
    "predictions = model.predict(test2)"
   ]
  },
  {
   "cell_type": "code",
   "execution_count": 20,
   "id": "c34af387",
   "metadata": {},
   "outputs": [
    {
     "data": {
      "text/plain": [
       "0.5601703940362087"
      ]
     },
     "execution_count": 20,
     "metadata": {},
     "output_type": "execute_result"
    }
   ],
   "source": [
    "from sklearn.metrics import f1_score\n",
    "f1_score(y_test2, predictions)"
   ]
  },
  {
   "cell_type": "code",
   "execution_count": 21,
   "id": "bfa50713",
   "metadata": {},
   "outputs": [
    {
     "data": {
      "text/plain": [
       "array([[7324,  237],\n",
       "       [ 176,  263]])"
      ]
     },
     "execution_count": 21,
     "metadata": {},
     "output_type": "execute_result"
    }
   ],
   "source": [
    "from sklearn.metrics import confusion_matrix\n",
    "confusion_matrix(y_test2, predictions)"
   ]
  },
  {
   "cell_type": "code",
   "execution_count": null,
   "id": "420a1e0b",
   "metadata": {},
   "outputs": [],
   "source": []
  }
 ],
 "metadata": {
  "kernelspec": {
   "display_name": "Python 3 (ipykernel)",
   "language": "python",
   "name": "python3"
  },
  "language_info": {
   "codemirror_mode": {
    "name": "ipython",
    "version": 3
   },
   "file_extension": ".py",
   "mimetype": "text/x-python",
   "name": "python",
   "nbconvert_exporter": "python",
   "pygments_lexer": "ipython3",
   "version": "3.9.12"
  }
 },
 "nbformat": 4,
 "nbformat_minor": 5
}
